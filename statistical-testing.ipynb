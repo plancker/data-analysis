{
 "cells": [
  {
   "cell_type": "markdown",
   "metadata": {},
   "source": [
    "# Statistical Testing \n",
    "\n",
    "In this notebook, I want to discuss the following question - When can I say that two variables are correlated? And how can I measure this correlation? This question is fundamental to any data analysis task. \n",
    "\n",
    "How can one tackle this question - One can look at the data for the two variables, plot them in some way and look at the correlation. This is actually quite important but this gives us only a qualitative idea. How do I get a quantitative answer to this question? \n",
    "\n",
    "The answer depends on the variables that I wish to consider - there are many forms of similarity in mathematics:\n",
    "1. Inner Product - to compare the angle between two vectors\n",
    "2. KL divergence - to compare two probability distributions\n",
    "and many more.\n",
    "\n",
    "Why not just use one of these measures? Well, first of all, the things that we want to compare are typically random variables. So, how do you define inner product of random variables? Well, you could consider the expectation of the inner product of these random variables. It is clear that we would have to normalize the random variables if we want this expectation to represent anything meaningful. In fact, this does turn out to be a meaningful measure of correlation - this is the pearon correlation coefficient. \n",
    "\n",
    "## Pearson correlation coefficient\n",
    "\n",
    "The pearson correlation coefficient is given by:\n",
    "\n",
    "$$\\rho_{X,Y} = \\frac{\\mathbb{E}[(X-\\mu_X) (Y-\\mu_Y)]}{\\sigma_X \\sigma_Y}$$\n",
    "\n",
    "This will always be between -1 and 1. \n",
    "\n",
    "Nice, so we have one such measure. But now there are more questions: \n",
    "1. Given some data, how do I actually estimate the correlation coefficient?\n",
    "2. What are the advantages and limitations of pearson correlation coefficient? \n",
    "\n",
    "\n",
    "Let's first look at how we can figure out this measure from data. "
   ]
  },
  {
   "cell_type": "code",
   "execution_count": null,
   "metadata": {
    "vscode": {
     "languageId": "plaintext"
    }
   },
   "outputs": [],
   "source": []
  },
  {
   "cell_type": "markdown",
   "metadata": {},
   "source": [
    "## Additional Remarks:\n",
    "1. While applying statistical testing we should always be careful about the multiple testing issue. This occurs when I test many hypotheses at once. "
   ]
  },
  {
   "cell_type": "markdown",
   "metadata": {},
   "source": []
  }
 ],
 "metadata": {
  "language_info": {
   "name": "python"
  },
  "orig_nbformat": 4
 },
 "nbformat": 4,
 "nbformat_minor": 2
}
